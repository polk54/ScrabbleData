{
 "cells": [
  {
   "cell_type": "markdown",
   "metadata": {},
   "source": [
    "# Scrabble Data\n",
    "I loved the Scrabble article on FiveThirtyEight, so I'm exploring their Scrabble dataset: https://github.com/polk54/data/tree/master/scrabble-games"
   ]
  },
  {
   "cell_type": "code",
   "execution_count": 1,
   "metadata": {
    "collapsed": true
   },
   "outputs": [],
   "source": [
    "import pandas as pd"
   ]
  },
  {
   "cell_type": "code",
   "execution_count": 6,
   "metadata": {},
   "outputs": [],
   "source": [
    "url = 'https://media.githubusercontent.com/media/polk54/data/master/scrabble-games/scrabble_games.csv'\n",
    "df = pd.read_csv(url)"
   ]
  },
  {
   "cell_type": "code",
   "execution_count": 9,
   "metadata": {},
   "outputs": [
    {
     "name": "stdout",
     "output_type": "stream",
     "text": [
      "   gameid  tourneyid    tie  winnerid           winnername  winnerscore  \\\n",
      "0       1          1  False       268  Harriette Lakernick            0   \n",
      "1       2          1  False       268  Harriette Lakernick            0   \n",
      "2       3          1  False       268  Harriette Lakernick            0   \n",
      "3       4          1  False       268  Harriette Lakernick            0   \n",
      "4       5          1  False       268  Harriette Lakernick            0   \n",
      "\n",
      "   winneroldrating  winnernewrating  winnerpos  loserid         losername  \\\n",
      "0             1568             1684          1      429  Patricia Barrett   \n",
      "1             1568             1684          1      435        Chris Cree   \n",
      "2             1568             1684          1      441  Caesar Jaramillo   \n",
      "3             1568             1684          1      456     Mike Chitwood   \n",
      "4             1568             1684          1     1334       Nancy Scott   \n",
      "\n",
      "   loserscore  loseroldrating  losernewrating  loserpos  round  division  \\\n",
      "0           0            1915            1872         3      1         1   \n",
      "1           0            1840            1798         6      2         1   \n",
      "2           0            1622            1606        10      3         1   \n",
      "3           0            1612            1600         9      4         1   \n",
      "4           0            1537            1590         4      6         1   \n",
      "\n",
      "         date  lexicon  \n",
      "0  1998-12-06    False  \n",
      "1  1998-12-06    False  \n",
      "2  1998-12-06    False  \n",
      "3  1998-12-06    False  \n",
      "4  1998-12-06    False  \n"
     ]
    }
   ],
   "source": [
    "print (df.head(5))"
   ]
  },
  {
   "cell_type": "code",
   "execution_count": 14,
   "metadata": {},
   "outputs": [
    {
     "data": {
      "text/plain": [
       "count    1.542642e+06\n",
       "mean     2.074505e+02\n",
       "std      2.107575e+02\n",
       "min     -1.200000e+01\n",
       "25%      0.000000e+00\n",
       "50%      0.000000e+00\n",
       "75%      4.110000e+02\n",
       "max      8.030000e+02\n",
       "Name: winnerscore, dtype: float64"
      ]
     },
     "execution_count": 14,
     "metadata": {},
     "output_type": "execute_result"
    }
   ],
   "source": [
    "df.winnerscore.describe()"
   ]
  },
  {
   "cell_type": "code",
   "execution_count": 15,
   "metadata": {},
   "outputs": [
    {
     "data": {
      "text/plain": [
       "count    1.542642e+06\n",
       "mean     1.680800e+02\n",
       "std      1.712769e+02\n",
       "min     -5.000000e+01\n",
       "25%      0.000000e+00\n",
       "50%      0.000000e+00\n",
       "75%      3.370000e+02\n",
       "max      5.850000e+02\n",
       "Name: loserscore, dtype: float64"
      ]
     },
     "execution_count": 15,
     "metadata": {},
     "output_type": "execute_result"
    }
   ],
   "source": [
    "df.loserscore.describe()"
   ]
  },
  {
   "cell_type": "code",
   "execution_count": 57,
   "metadata": {},
   "outputs": [
    {
     "data": {
      "image/png": "[encoded data removed]",
      "text/plain": [
       "<matplotlib.figure.Figure at 0x12c1d6320>"
      ]
     },
     "metadata": {},
     "output_type": "display_data"
    }
   ],
   "source": [
    "df['winnerscore'].plot(kind='hist', bins = 20)\n",
    "plt.show()\n",
    "# need to exclude the negative scores and zeros"
   ]
  },
  {
   "cell_type": "code",
   "execution_count": 54,
   "metadata": {},
   "outputs": [
    {
     "data": {
      "text/plain": [
       "count    770761.000000\n",
       "mean        415.202618\n",
       "std          51.407354\n",
       "min           1.000000\n",
       "25%         379.000000\n",
       "50%         411.000000\n",
       "75%         446.000000\n",
       "max         803.000000\n",
       "Name: winnerscore, dtype: float64"
      ]
     },
     "execution_count": 54,
     "metadata": {},
     "output_type": "execute_result"
    }
   ],
   "source": [
    "winner = df['winnerscore']\n",
    "winner2 = winner[winner>0]\n",
    "winner2.describe()"
   ]
  },
  {
   "cell_type": "code",
   "execution_count": 55,
   "metadata": {},
   "outputs": [
    {
     "data": {
      "text/plain": [
       "count    770679.000000\n",
       "mean        336.440826\n",
       "std          45.571477\n",
       "min           1.000000\n",
       "25%         307.000000\n",
       "50%         337.000000\n",
       "75%         367.000000\n",
       "max         585.000000\n",
       "Name: loserscore, dtype: float64"
      ]
     },
     "execution_count": 55,
     "metadata": {},
     "output_type": "execute_result"
    }
   ],
   "source": [
    "loser = df['loserscore']\n",
    "loser2 = loser[loser>0]\n",
    "loser2.describe()"
   ]
  },
  {
   "cell_type": "code",
   "execution_count": 65,
   "metadata": {},
   "outputs": [
    {
     "data": {
      "image/png": "[encoded data removed]",
      "text/plain": [
       "<matplotlib.figure.Figure at 0x121435b00>"
      ]
     },
     "metadata": {},
     "output_type": "display_data"
    }
   ],
   "source": [
    "from matplotlib import pyplot\n",
    "pyplot.hist(winner2, bins = 100, label='Winning Score')\n",
    "pyplot.hist(loser2, bins = 100, label='Losing Score')\n",
    "pyplot.legend(loc='upper right')\n",
    "pyplot.show()"
   ]
  },
  {
   "cell_type": "code",
   "execution_count": null,
   "metadata": {
    "collapsed": true
   },
   "outputs": [],
   "source": []
  }
 ],
 "metadata": {
  "kernelspec": {
   "display_name": "Python 3",
   "language": "python",
   "name": "python3"
  },
  "language_info": {
   "codemirror_mode": {
    "name": "ipython",
    "version": 3
   },
   "file_extension": ".py",
   "mimetype": "text/x-python",
   "name": "python",
   "nbconvert_exporter": "python",
   "pygments_lexer": "ipython3",
   "version": "3.6.1"
  }
 },
 "nbformat": 4,
 "nbformat_minor": 2
}
